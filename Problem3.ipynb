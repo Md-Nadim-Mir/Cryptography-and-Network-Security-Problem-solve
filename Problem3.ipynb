{
 "cells": [
  {
   "cell_type": "markdown",
   "id": "1e15c36e-1568-40b1-8e08-4cd7b15fedda",
   "metadata": {},
   "source": [
    "Encrypt plaintext message using RSA algorithm . "
   ]
  },
  {
   "cell_type": "markdown",
   "id": "2bbe047d-16b3-44a3-b1ba-4ccd7763da16",
   "metadata": {},
   "source": [
    "Then perform the reverse operation to get original plaintext .  "
   ]
  },
  {
   "cell_type": "code",
   "execution_count": 7,
   "id": "cab3144e-8388-45eb-a525-f80492a4c1df",
   "metadata": {},
   "outputs": [
    {
     "name": "stdout",
     "output_type": "stream",
     "text": [
      "Encrypted Ciphertext: 3029\n",
      "Decrypted Plaintext: 930\n"
     ]
    },
    {
     "ename": "AssertionError",
     "evalue": "Decryption failed! Original message and decrypted message don't match.",
     "output_type": "error",
     "traceback": [
      "\u001b[1;31m---------------------------------------------------------------------------\u001b[0m",
      "\u001b[1;31mAssertionError\u001b[0m                            Traceback (most recent call last)",
      "Cell \u001b[1;32mIn[7], line 33\u001b[0m\n\u001b[0;32m     30\u001b[0m \u001b[38;5;28mprint\u001b[39m(\u001b[38;5;124mf\u001b[39m\u001b[38;5;124m\"\u001b[39m\u001b[38;5;124mDecrypted Plaintext: \u001b[39m\u001b[38;5;132;01m{\u001b[39;00mdecrypted_M\u001b[38;5;132;01m}\u001b[39;00m\u001b[38;5;124m\"\u001b[39m)\n\u001b[0;32m     32\u001b[0m \u001b[38;5;66;03m# Verify the original message matches the decrypted one\u001b[39;00m\n\u001b[1;32m---> 33\u001b[0m \u001b[38;5;28;01massert\u001b[39;00m decrypted_M \u001b[38;5;241m==\u001b[39m M, \u001b[38;5;124m\"\u001b[39m\u001b[38;5;124mDecryption failed! Original message and decrypted message don\u001b[39m\u001b[38;5;124m'\u001b[39m\u001b[38;5;124mt match.\u001b[39m\u001b[38;5;124m\"\u001b[39m\n",
      "\u001b[1;31mAssertionError\u001b[0m: Decryption failed! Original message and decrypted message don't match."
     ]
    }
   ],
   "source": [
    "# Required libraries\n",
    "def mod_exp(base, exp, mod):\n",
    "    #\"\"\"Performs modular exponentiation: (base^exp) % mod.\"\"\"\n",
    "    result = 1\n",
    "    base = base % mod  # Ensure base is within the modulo range\n",
    "\n",
    "    while exp > 0:\n",
    "        # If exp is odd, multiply base with the result\n",
    "        if exp % 2 == 1:\n",
    "            result = (result * base) % mod\n",
    "\n",
    "        # Now exp is even, divide it by 2\n",
    "        exp = exp // 2\n",
    "        base = (base * base) % mod\n",
    "\n",
    "    return result\n",
    "\n",
    "# Given values\n",
    "M = 6882326879666683  # Plaintext\n",
    "e = 79                # Public exponent\n",
    "d = 1019              # Private exponent\n",
    "n = 3337              # Modulus\n",
    "\n",
    "# Step 1: Encryption (M^e mod n)\n",
    "C = mod_exp(M, e, n)\n",
    "print(f\"Encrypted Ciphertext: {C}\")\n",
    "\n",
    "# Step 2: Decryption (C^d mod n)\n",
    "decrypted_M = mod_exp(C, d, n)\n",
    "print(f\"Decrypted Plaintext: {decrypted_M}\")\n",
    "\n",
    "# Verify the original message matches the decrypted one\n",
    "assert decrypted_M == M, \"Decryption failed! Original message and decrypted message don't match.\"\n"
   ]
  }
 ],
 "metadata": {
  "kernelspec": {
   "display_name": "Python 3 (ipykernel)",
   "language": "python",
   "name": "python3"
  },
  "language_info": {
   "codemirror_mode": {
    "name": "ipython",
    "version": 3
   },
   "file_extension": ".py",
   "mimetype": "text/x-python",
   "name": "python",
   "nbconvert_exporter": "python",
   "pygments_lexer": "ipython3",
   "version": "3.13.0"
  }
 },
 "nbformat": 4,
 "nbformat_minor": 5
}
