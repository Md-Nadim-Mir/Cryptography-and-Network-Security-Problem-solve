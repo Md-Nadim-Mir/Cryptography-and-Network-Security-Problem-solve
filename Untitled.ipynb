{
 "cells": [
  {
   "cell_type": "markdown",
   "id": "521a54fe-f307-4c00-95b1-ef5ed936225f",
   "metadata": {},
   "source": [
    "The polygram substitution cipher encrypts plaintext by substituting blocks of multiple letters (rather than individual ones) with \n",
    "corresponding ciphertext blocks based on a fixed key."
   ]
  },
  {
   "cell_type": "markdown",
   "id": "76cd50c4-5d67-4c9b-a329-ad14923edeb1",
   "metadata": {},
   "source": [
    "The RSA algorithm is an asymmetric cryptographic technique that encrypts and decrypts data using a\n",
    "public-private key pair, ensuring secure data transmission."
   ]
  }
 ],
 "metadata": {
  "kernelspec": {
   "display_name": "Python 3 (ipykernel)",
   "language": "python",
   "name": "python3"
  },
  "language_info": {
   "codemirror_mode": {
    "name": "ipython",
    "version": 3
   },
   "file_extension": ".py",
   "mimetype": "text/x-python",
   "name": "python",
   "nbconvert_exporter": "python",
   "pygments_lexer": "ipython3",
   "version": "3.13.0"
  }
 },
 "nbformat": 4,
 "nbformat_minor": 5
}
