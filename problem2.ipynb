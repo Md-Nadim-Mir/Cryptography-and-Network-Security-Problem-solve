{
 "cells": [
  {
   "cell_type": "markdown",
   "id": "6f057497-89e7-4189-8f1b-c4c1b1d6cc67",
   "metadata": {},
   "source": [
    "Polygram substitution chipher of a given plaintext block size 3. "
   ]
  },
  {
   "cell_type": "code",
   "execution_count": null,
   "id": "7eb26151-3aa6-4fdb-a896-88b9326de4d2",
   "metadata": {},
   "outputs": [],
   "source": [
    " then perform reverse operation to get original plaintext."
   ]
  },
  {
   "cell_type": "code",
   "execution_count": 5,
   "id": "0a61b2ed-bd49-496c-ae1c-79a5c3a53418",
   "metadata": {},
   "outputs": [],
   "source": [
    "encryption_rules, decryption_rules = {}, {}\n",
    "\n",
    "with open(\"Polygram Blocks.txt\", \"r\") as file:\n",
    "    content = file.read()\n",
    "    words = content.split()\n",
    "\n",
    "for i in range(0, len(words), 2):\n",
    "    word1, word2 = words[i], words[i + 1]\n",
    "    encryption_rules[word1] = word2\n",
    "    decryption_rules[word2] = word1"
   ]
  },
  {
   "cell_type": "code",
   "execution_count": null,
   "id": "08d0f52c-cdff-4197-97e2-b7b86a28b355",
   "metadata": {},
   "outputs": [],
   "source": [
    "Encryption "
   ]
  },
  {
   "cell_type": "code",
   "execution_count": 6,
   "id": "22d3dccb-6978-4b0e-bb66-daeeaa6443fd",
   "metadata": {},
   "outputs": [],
   "source": [
    "def encrypt(plain_text):\n",
    "    cipher_text = \"\"\n",
    "    block = \"\"\n",
    "\n",
    "    for i in range(len(plain_text)):\n",
    "        if i and i % 3 == 0:\n",
    "            cipher_text += encryption_rules[block]\n",
    "            block = \"\"     \n",
    "        block += plain_text[i]\n",
    "    \n",
    "    cipher_text += encryption_rules[block]\n",
    "    return cipher_text"
   ]
  },
  {
   "cell_type": "markdown",
   "id": "7b7efcee-1300-4ddc-8e11-e420001e7339",
   "metadata": {},
   "source": [
    "Decryption"
   ]
  },
  {
   "cell_type": "code",
   "execution_count": 7,
   "id": "d4015fa9-b171-4ffd-919d-223e6275d380",
   "metadata": {},
   "outputs": [],
   "source": [
    "def decrypt(cipher_text):\n",
    "    plain_text = \"\"\n",
    "    block = \"\"\n",
    "\n",
    "    for i in range(len(cipher_text)):\n",
    "        if i and i % 3 == 0:\n",
    "            plain_text += decryption_rules[block]\n",
    "            block = \"\"     \n",
    "        block += cipher_text[i]\n",
    "    \n",
    "    plain_text += decryption_rules[block]\n",
    "    return plain_text"
   ]
  },
  {
   "cell_type": "markdown",
   "id": "8bc02e92-bed0-4d73-bf28-675d9ca425d2",
   "metadata": {},
   "source": [
    "Encryption & Decryption using  polygram substition chipper"
   ]
  },
  {
   "cell_type": "code",
   "execution_count": 8,
   "id": "c8010300-7874-49d0-8de5-49b0846fbcbb",
   "metadata": {},
   "outputs": [
    {
     "name": "stdin",
     "output_type": "stream",
     "text": [
      "Enter the text to encrypt:  abcabf\n"
     ]
    },
    {
     "name": "stdout",
     "output_type": "stream",
     "text": [
      "Plain Text: abcabf\n",
      "Encrypted Text: xnqsoz\n",
      "Decrypted Text: abcabf\n"
     ]
    }
   ],
   "source": [
    "plain_text = input(\"Enter the text to encrypt: \")\n",
    "cipher_text = encrypt(plain_text)\n",
    "decrypted_text = decrypt(cipher_text)\n",
    "\n",
    "print(f\"Plain Text: {plain_text}\")\n",
    "print(f\"Encrypted Text: {cipher_text}\")\n",
    "print(f\"Decrypted Text: {decrypted_text}\")"
   ]
  },
  {
   "cell_type": "code",
   "execution_count": null,
   "id": "bfa7185d-5942-4ba0-b1ce-aca1e440c247",
   "metadata": {},
   "outputs": [],
   "source": []
  }
 ],
 "metadata": {
  "kernelspec": {
   "display_name": "Python 3 (ipykernel)",
   "language": "python",
   "name": "python3"
  },
  "language_info": {
   "codemirror_mode": {
    "name": "ipython",
    "version": 3
   },
   "file_extension": ".py",
   "mimetype": "text/x-python",
   "name": "python",
   "nbconvert_exporter": "python",
   "pygments_lexer": "ipython3",
   "version": "3.13.0"
  }
 },
 "nbformat": 4,
 "nbformat_minor": 5
}
