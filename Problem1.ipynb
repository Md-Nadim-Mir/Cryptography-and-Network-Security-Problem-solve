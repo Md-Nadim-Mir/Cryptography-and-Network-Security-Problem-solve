{
 "cells": [
  {
   "cell_type": "markdown",
   "id": "6949c7e4-c89d-43eb-817e-22972ed6f623",
   "metadata": {},
   "source": [
    "Encrypted Plaintext  using Caesar Cipher "
   ]
  },
  {
   "cell_type": "markdown",
   "id": "052fb084-8556-4ea8-a881-4703c28b9f97",
   "metadata": {},
   "source": [
    "followded by Transpositon cipher"
   ]
  },
  {
   "cell_type": "markdown",
   "id": "f6e89ac5-07dc-4ac6-b72c-6f537ea46489",
   "metadata": {},
   "source": [
    "reverse operation perforn get origninal plaintext\n"
   ]
  },
  {
   "cell_type": "markdown",
   "id": "7497c7f7-0b04-4504-9c2b-9b8ddb1faac0",
   "metadata": {},
   "source": [
    "Plaintext Encrypt use  Caesar Cipher\n"
   ]
  },
  {
   "cell_type": "code",
   "execution_count": 37,
   "id": "0ef3dd3f-4e77-4c8d-8a6f-1b94d7dc8c74",
   "metadata": {},
   "outputs": [],
   "source": [
    "def caesarCipherEncrypt(plainText, shift):\n",
    "    cipherText = ''\n",
    "    for char in plainText:\n",
    "        if char.isalpha():\n",
    "           \n",
    "            if char.isupper():\n",
    "                asciiOffset = ord('A')\n",
    "            else:\n",
    "                asciiOffset = ord('a')\n",
    "           \n",
    "            shiftedChar = chr((ord(char) - asciiOffset + shift) % 26 + asciiOffset)\n",
    "            cipherText += shiftedChar\n",
    "        else:\n",
    "          \n",
    "            cipherText += char\n",
    "    return cipherText"
   ]
  },
  {
   "cell_type": "markdown",
   "id": "698ff0bd-422f-45c8-92f7-c1c321daaa5a",
   "metadata": {},
   "source": [
    "Decrypt Caesar Chipher\n"
   ]
  },
  {
   "cell_type": "code",
   "execution_count": 38,
   "id": "ce7faa4b-f4f0-4748-bff2-2021e220a6f0",
   "metadata": {},
   "outputs": [],
   "source": [
    "def caesarCipherDecrypt(cipherText, shift):\n",
    "    plainText = ''\n",
    "    for char in cipherText:\n",
    "        if char.isalpha():\n",
    "          \n",
    "            if char.isupper():\n",
    "                asciiOffset = ord('A')\n",
    "            else:\n",
    "                asciiOffset = ord('a')\n",
    "           \n",
    "            shiftedChar = chr((ord(char) - asciiOffset - shift) % 26 + asciiOffset)\n",
    "            plainText += shiftedChar\n",
    "        else:\n",
    "         \n",
    "            plainText += char\n",
    "    return plainText"
   ]
  },
  {
   "cell_type": "markdown",
   "id": "c63d498e-ce0d-4d9b-a439-ecfb30729901",
   "metadata": {},
   "source": [
    "\n",
    "\n",
    "Transposition Encrypt width is 5 \n",
    "\n"
   ]
  },
  {
   "cell_type": "code",
   "execution_count": 39,
   "id": "d02f37d2-dedc-432d-b95c-03fff78573af",
   "metadata": {},
   "outputs": [],
   "source": [
    "def transpositionEncrypt(plain_text, width = 5):\n",
    "    length = len(plain_text)\n",
    "    cipher_text = \"\"\n",
    "\n",
    "    for k in range(width):\n",
    "     \n",
    "        for i in range(k, length, width): \n",
    "            cipher_text += plain_text[i]\n",
    "          \n",
    "    \n",
    "    return cipher_text"
   ]
  },
  {
   "cell_type": "markdown",
   "id": "81bb1f01-dbb8-402d-b1a8-ee9a20ead9c6",
   "metadata": {},
   "source": [
    "\n",
    "\n",
    "Transposition Decrypt width is 5 \n",
    "\n"
   ]
  },
  {
   "cell_type": "code",
   "execution_count": 40,
   "id": "9905b825-db84-4742-99bd-d1760641681e",
   "metadata": {},
   "outputs": [],
   "source": [
    "def transpositionDecrypt(cipher_text, width = 5):\n",
    "    length = len(cipher_text)\n",
    "    plain_text = [''] * length\n",
    "    idx = 0\n",
    "\n",
    "    for k in range(width):\n",
    "        for i in range(k, length, width): \n",
    "            plain_text[i] = cipher_text[idx]\n",
    "            idx += 1\n",
    "\n",
    "    return ''.join(plain_text)"
   ]
  },
  {
   "cell_type": "code",
   "execution_count": 41,
   "id": "d5ff2d32-29cf-4d6f-a6c4-157b74bca0f5",
   "metadata": {},
   "outputs": [
    {
     "name": "stdout",
     "output_type": "stream",
     "text": [
      "Plaintext:  Computer Science\n",
      "Caesar Cipher:  Frpsxwhu Vflhqfh\n",
      "Transposition Cipher:  Fwfhrhlpuhs qxVf\n",
      "----------------------------\n",
      "Transposition Plaintext:  Frpsxwhu Vflhqfh\n",
      "Plaintext:  Computer Science\n"
     ]
    }
   ],
   "source": [
    "\n",
    "plainText = \"Computer Science\"\n",
    "\n",
    "# Encrypt  plaintext\n",
    "caesarCipher = caesarCipherEncrypt(plainText, 3)\n",
    "transpositionCipher = transpositionEncrypt(caesarCipher, 5)\n",
    "\n",
    "print(\"Plaintext: \", plainText)\n",
    "print(\"Caesar Cipher: \", caesarCipher)\n",
    "print(\"Transposition Cipher: \", transpositionCipher)\n",
    "\n",
    "# Decrypt  ciphertext\n",
    "transpositionPlaintext = transpositionDecrypt(transpositionCipher, 5)\n",
    "plain_text = caesarCipherDecrypt(transpositionPlaintext, 3)\n",
    "print(\"----------------------------\")\n",
    "print(\"Transposition Plaintext: \", transpositionPlaintext)\n",
    "print(\"Plaintext: \", plain_text)"
   ]
  },
  {
   "cell_type": "code",
   "execution_count": null,
   "id": "28ce6c35-1528-450d-aab7-5313cdece825",
   "metadata": {},
   "outputs": [],
   "source": []
  }
 ],
 "metadata": {
  "kernelspec": {
   "display_name": "Python 3 (ipykernel)",
   "language": "python",
   "name": "python3"
  },
  "language_info": {
   "codemirror_mode": {
    "name": "ipython",
    "version": 3
   },
   "file_extension": ".py",
   "mimetype": "text/x-python",
   "name": "python",
   "nbconvert_exporter": "python",
   "pygments_lexer": "ipython3",
   "version": "3.13.0"
  }
 },
 "nbformat": 4,
 "nbformat_minor": 5
}
