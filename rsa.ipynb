{
 "cells": [
  {
   "cell_type": "code",
   "execution_count": 1,
   "metadata": {},
   "outputs": [
    {
     "name": "stdout",
     "output_type": "stream",
     "text": [
      "Encrypted Text: 8286\n",
      "Decrypted Text: 468\n"
     ]
    }
   ],
   "source": [
    "def modular_exponentiation(base, exp, mod):\n",
    "    \"\"\"Calculate (base^exp) % mod using iterative squaring.\"\"\"\n",
    "    result = 1\n",
    "    base = base % mod\n",
    "    while exp > 0:\n",
    "        if (exp % 2) == 1:  # If exp is odd\n",
    "            result = (result * base) % mod\n",
    "        exp = exp >> 1  # Divide exp by 2\n",
    "        base = (base * base) % mod  # Square the base\n",
    "    return result\n",
    "\n",
    "def rsa_encrypt(plaintext, e, n):\n",
    "    \"\"\"Encrypt the plaintext using RSA encryption.\"\"\"\n",
    "    ciphertext = modular_exponentiation(plaintext, e, n)\n",
    "    return ciphertext\n",
    "\n",
    "def rsa_decrypt(ciphertext, d, n):\n",
    "    \"\"\"Decrypt the ciphertext using RSA decryption.\"\"\"\n",
    "    plaintext = modular_exponentiation(ciphertext, d, n)\n",
    "    return plaintext\n",
    "\n",
    "# Example parameters\n",
    "M = 6882326879666683  # Plaintext\n",
    "e = 79                # Public exponent\n",
    "d = 1019              # Private exponent\n",
    "p = 103              # Example prime (you can use your own)\n",
    "q = 107              # Example prime (you can use your own)\n",
    "n = p * q            # Modulus for both encryption and decryption\n",
    "\n",
    "# Encrypt\n",
    "encrypted_text = rsa_encrypt(M, e, n)\n",
    "print(\"Encrypted Text:\", encrypted_text)\n",
    "\n",
    "# Decrypt\n",
    "decrypted_text = rsa_decrypt(encrypted_text, d, n)\n",
    "print(\"Decrypted Text:\", decrypted_text)"
   ]
  }
 ],
 "metadata": {
  "kernelspec": {
   "display_name": "Python 3",
   "language": "python",
   "name": "python3"
  },
  "language_info": {
   "codemirror_mode": {
    "name": "ipython",
    "version": 3
   },
   "file_extension": ".py",
   "mimetype": "text/x-python",
   "name": "python",
   "nbconvert_exporter": "python",
   "pygments_lexer": "ipython3",
   "version": "3.9.11"
  }
 },
 "nbformat": 4,
 "nbformat_minor": 2
}
